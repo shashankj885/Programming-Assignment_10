{
 "cells": [
  {
   "cell_type": "markdown",
   "id": "6e5f4074",
   "metadata": {},
   "source": [
    "1. Write a Python program to find sum of elements in list?"
   ]
  },
  {
   "cell_type": "code",
   "execution_count": 1,
   "id": "1081a7af",
   "metadata": {},
   "outputs": [
    {
     "name": "stdout",
     "output_type": "stream",
     "text": [
      "Enter the lenth of your list : 5\n",
      "1\n",
      "9\n",
      "7\n",
      "8\n",
      "9\n",
      "The List is  [1, 9, 7, 8, 9]\n",
      "Sum of elements in List 34\n"
     ]
    }
   ],
   "source": [
    "n = int(input(\"Enter the lenth of your list : \"))\n",
    "lst = []\n",
    "\n",
    "for i in range(n):\n",
    "    lst.append(int(input()))\n",
    "print(\"The List is \",lst)\n",
    "print(\"Sum of elements in List\",sum(lst))\n"
   ]
  },
  {
   "cell_type": "markdown",
   "id": "9f228553",
   "metadata": {},
   "source": [
    "2. Write a Python program to Multiply all numbers in the list?"
   ]
  },
  {
   "cell_type": "code",
   "execution_count": 2,
   "id": "9552698f",
   "metadata": {},
   "outputs": [
    {
     "name": "stdout",
     "output_type": "stream",
     "text": [
      "Enter the lenth of your list : 3\n",
      "59\n",
      "5\n",
      "8\n",
      "The List is  [59, 5, 8]\n",
      "Product of elements in List is : 2360\n"
     ]
    }
   ],
   "source": [
    "n = int(input(\"Enter the lenth of your list : \"))\n",
    "lst = []\n",
    "\n",
    "for i in range(n):\n",
    "    lst.append(int(input()))\n",
    "print(\"The List is \",lst)\n",
    "product = 1\n",
    "for i in lst:\n",
    "    product = product*i\n",
    "print(\"Product of elements in List is :\",product)"
   ]
  },
  {
   "cell_type": "markdown",
   "id": "c81d2f36",
   "metadata": {},
   "source": [
    "3. Write a Python program to find smallest number in a list?"
   ]
  },
  {
   "cell_type": "code",
   "execution_count": 4,
   "id": "02c4e05e",
   "metadata": {},
   "outputs": [
    {
     "name": "stdout",
     "output_type": "stream",
     "text": [
      "Enter the lenth of your list : 5\n",
      "4\n",
      "9\n",
      "8\n",
      "6\n",
      "7\n",
      "The List is  [4, 9, 8, 6, 7]\n",
      "The Smallest no. in the list is : 4\n"
     ]
    }
   ],
   "source": [
    "n = int(input(\"Enter the lenth of your list : \"))\n",
    "lst = []\n",
    "\n",
    "for i in range(n):\n",
    "    lst.append(int(input()))\n",
    "print(\"The List is \",lst)\n",
    "print(\"The Smallest no. in the list is :\",min(lst))"
   ]
  },
  {
   "cell_type": "markdown",
   "id": "a5c09ba2",
   "metadata": {},
   "source": [
    "4. Write a Python program to find largest number in a list?"
   ]
  },
  {
   "cell_type": "code",
   "execution_count": 5,
   "id": "74f7410f",
   "metadata": {},
   "outputs": [
    {
     "name": "stdout",
     "output_type": "stream",
     "text": [
      "Enter the lenth of your list : 9\n",
      "1\n",
      "6\n",
      "9\n",
      "25\n",
      "7\n",
      "69\n",
      "483\n",
      "154\n",
      "15\n",
      "The List is  [1, 6, 9, 25, 7, 69, 483, 154, 15]\n",
      "The largest no. in the list is : 483\n"
     ]
    }
   ],
   "source": [
    "n = int(input(\"Enter the lenth of your list : \"))\n",
    "lst = []\n",
    "\n",
    "for i in range(n):\n",
    "    lst.append(int(input()))\n",
    "print(\"The List is \",lst)\n",
    "print(\"The largest no. in the list is :\",max(lst))"
   ]
  },
  {
   "cell_type": "markdown",
   "id": "7020f23f",
   "metadata": {},
   "source": [
    "5. Write a Python program to find second largest number in a list?"
   ]
  },
  {
   "cell_type": "code",
   "execution_count": 6,
   "id": "1ab68886",
   "metadata": {},
   "outputs": [
    {
     "name": "stdout",
     "output_type": "stream",
     "text": [
      "Enter the lenth of your list : 4\n",
      "89\n",
      "7\n",
      "9\n",
      "326\n",
      "The List is  [89, 7, 9, 326]\n",
      "The sorted list is  [7, 9, 89, 326]\n",
      "The second largest number in the list is  89\n"
     ]
    }
   ],
   "source": [
    "n = int(input(\"Enter the lenth of your list : \"))\n",
    "lst = []\n",
    "\n",
    "for i in range(n):\n",
    "    lst.append(int(input()))\n",
    "print(\"The List is \",lst)\n",
    "lst.sort()\n",
    "print(\"The sorted list is \",lst)\n",
    "print(\"The second largest number in the list is \",lst[-2])"
   ]
  },
  {
   "cell_type": "markdown",
   "id": "a462df4a",
   "metadata": {},
   "source": [
    "6. Write a Python program to find N largest elements from a list?"
   ]
  },
  {
   "cell_type": "code",
   "execution_count": 7,
   "id": "a54d1c1f",
   "metadata": {},
   "outputs": [
    {
     "name": "stdout",
     "output_type": "stream",
     "text": [
      "Enter the lenth of your list : 5\n",
      "4\n",
      "8\n",
      "9\n",
      "65\n",
      "79\n",
      "The List is  [4, 8, 9, 65, 79]\n",
      "The sorted list is  [4, 8, 9, 65, 79]\n",
      "Enter how many largest number you want from list:2\n",
      "2 largest elements from the list are : [65, 79]\n"
     ]
    }
   ],
   "source": [
    "n = int(input(\"Enter the lenth of your list : \"))\n",
    "lst = []\n",
    "\n",
    "for i in range(n):\n",
    "    lst.append(int(input()))\n",
    "print(\"The List is \",lst)\n",
    "lst.sort()\n",
    "print(\"The sorted list is \",lst)\n",
    "nlar = int(input(\"Enter how many largest number you want from list:\"))\n",
    "\n",
    "if n < nlar :\n",
    "    print(\"enterted value is larger then the length of list\")\n",
    "else:\n",
    "    print(nlar,\"largest elements from the list are :\",lst[(n-nlar):])"
   ]
  },
  {
   "cell_type": "markdown",
   "id": "bf0d9f16",
   "metadata": {},
   "source": [
    "7. Write a Python program to print even numbers in a list?"
   ]
  },
  {
   "cell_type": "code",
   "execution_count": 8,
   "id": "22f330b9",
   "metadata": {},
   "outputs": [
    {
     "name": "stdout",
     "output_type": "stream",
     "text": [
      "Enter  the len of the list :5\n",
      "454\n",
      "848\n",
      "94\n",
      "4789\n",
      "5\n",
      "The List is : [454, 848, 94, 4789, 5]\n",
      "The even numbers in list [454, 848, 94]\n"
     ]
    }
   ],
   "source": [
    "lent =  int(input(\"Enter  the len of the list :\"))\n",
    "lst = []\n",
    "for i in  range(lent):\n",
    "  lst.append(int(input()))\n",
    "print(\"The List is :\" ,lst)\n",
    "even = [i for i in lst if i%2==0 ]\n",
    "print(\"The even numbers in list\" , even)"
   ]
  },
  {
   "cell_type": "markdown",
   "id": "3097ebad",
   "metadata": {},
   "source": [
    "8. Write a Python program to print odd numbers in a List?"
   ]
  },
  {
   "cell_type": "code",
   "execution_count": 9,
   "id": "37bfc39f",
   "metadata": {},
   "outputs": [
    {
     "name": "stdout",
     "output_type": "stream",
     "text": [
      "Enter  the len of the list :3\n",
      "4\n",
      "89\n",
      "5\n",
      "The List is : [4, 89, 5]\n",
      "The even numbers in list [89, 5]\n"
     ]
    }
   ],
   "source": [
    "lent =  int(input(\"Enter  the len of the list :\"))\n",
    "lst = []\n",
    "for i in  range(lent):\n",
    "  lst.append(int(input()))\n",
    "print(\"The List is :\" ,lst)\n",
    "odd = [i for i in lst if i%2 != 0 ]\n",
    "print(\"The even numbers in list\" , odd)"
   ]
  },
  {
   "cell_type": "markdown",
   "id": "f7be12cb",
   "metadata": {},
   "source": [
    "9. Write a Python program to Remove empty List from List?"
   ]
  },
  {
   "cell_type": "code",
   "execution_count": 10,
   "id": "b268f0c5",
   "metadata": {},
   "outputs": [
    {
     "name": "stdout",
     "output_type": "stream",
     "text": [
      "The List : [55, [], 14, 75, [], 96, 80, [], 36]\n",
      "The list after removing empty lists : [55, 14, 75, 96, 80, 36]\n"
     ]
    }
   ],
   "source": [
    "lst = [55,[],14,75,[],96,80,[],36]\n",
    "print(\"The List :\",lst)\n",
    "new_list = [item for item in lst if item != []]\n",
    "print(\"The list after removing empty lists :\" , new_list)"
   ]
  },
  {
   "cell_type": "markdown",
   "id": "ea7c4ae2",
   "metadata": {},
   "source": [
    "10. Write a Python program to Cloning or Copying a list?"
   ]
  },
  {
   "cell_type": "code",
   "execution_count": 12,
   "id": "8eb9b97b",
   "metadata": {},
   "outputs": [
    {
     "name": "stdout",
     "output_type": "stream",
     "text": [
      "Enter the lenth of your list : 5\n",
      "5\n",
      "48\n",
      "54\n",
      "864\n",
      "6\n",
      "The List is  [5, 48, 54, 864, 6]\n",
      "Cloning By list copying lst  [5, 48, 54, 864, 6]\n"
     ]
    }
   ],
   "source": [
    "\n",
    "n = int(input(\"Enter the lenth of your list : \"))\n",
    "lst = []\n",
    "\n",
    "for i in range(n):\n",
    "    lst.append(int(input()))\n",
    "print(\"The List is \",lst)\n",
    "\n",
    "lst_copy = lst.copy()\n",
    "print(\"Cloning By list copying lst \",lst_copy)"
   ]
  },
  {
   "cell_type": "markdown",
   "id": "00dc5412",
   "metadata": {},
   "source": [
    "11. Write a Python program to Count occurrences of an element in a list?"
   ]
  },
  {
   "cell_type": "code",
   "execution_count": 13,
   "id": "ab65313c",
   "metadata": {},
   "outputs": [
    {
     "name": "stdout",
     "output_type": "stream",
     "text": [
      "Enter the lenth of your list : 9\n",
      "5\n",
      "6\n",
      "5\n",
      "9\n",
      "5\n",
      "9\n",
      "6\n",
      "623\n",
      "62\n",
      "The List is  [5, 6, 5, 9, 5, 9, 6, 623, 62]\n",
      "Enter the element to find its occurance : 9\n",
      "9 has occured 2 times in the list \n"
     ]
    }
   ],
   "source": [
    "lent = int(input(\"Enter the lenth of your list : \"))\n",
    "lst = []\n",
    "\n",
    "for i in range(lent):\n",
    "    lst.append(int(input()))\n",
    "print(\"The List is \",lst)\n",
    "ele= int(input(\"Enter the element to find its occurance : \"))\n",
    "print(ele,\"has occured {} times in the list \".format(lst.count(ele)))"
   ]
  }
 ],
 "metadata": {
  "kernelspec": {
   "display_name": "Python 3 (ipykernel)",
   "language": "python",
   "name": "python3"
  },
  "language_info": {
   "codemirror_mode": {
    "name": "ipython",
    "version": 3
   },
   "file_extension": ".py",
   "mimetype": "text/x-python",
   "name": "python",
   "nbconvert_exporter": "python",
   "pygments_lexer": "ipython3",
   "version": "3.9.13"
  }
 },
 "nbformat": 4,
 "nbformat_minor": 5
}
